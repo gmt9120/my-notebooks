{
  "nbformat": 4,
  "nbformat_minor": 0,
  "metadata": {
    "colab": {
      "name": "My First Notebook",
      "provenance": [],
      "authorship_tag": "ABX9TyP8qeuvdnMg3FU/qNFJHezX",
      "include_colab_link": true
    },
    "kernelspec": {
      "name": "python3",
      "display_name": "Python 3"
    },
    "language_info": {
      "name": "python"
    }
  },
  "cells": [
    {
      "cell_type": "markdown",
      "metadata": {
        "id": "view-in-github",
        "colab_type": "text"
      },
      "source": [
        "<a href=\"https://colab.research.google.com/github/gmt9120/my-notebooks/blob/main/My_First_Notebook.ipynb\" target=\"_parent\"><img src=\"https://colab.research.google.com/assets/colab-badge.svg\" alt=\"Open In Colab\"/></a>"
      ]
    },
    {
      "cell_type": "code",
      "source": [
        "# This is some example Python code\n",
        "# These lines starting with \"#\" are \"comments\"\n",
        "# Remember \"#\" means something different in Markdown than it does in Python\n",
        "\n",
        "print(\"HELLO WORLD!\")\n",
        "\n",
        "x = 2 + 2\n",
        "print(x)"
      ],
      "metadata": {
        "colab": {
          "base_uri": "https://localhost:8080/"
        },
        "id": "1sBvzqJYweUs",
        "outputId": "8f07c7e5-658c-4157-ef95-ef51e5289c62"
      },
      "execution_count": 1,
      "outputs": [
        {
          "output_type": "stream",
          "name": "stdout",
          "text": [
            "HELLO WORLD!\n",
            "4\n"
          ]
        }
      ]
    },
    {
      "cell_type": "markdown",
      "source": [
        "this is some text\n",
        "\n",
        "We can write any language (like english)\n",
        "Or we can write in Markdown... a way of writing structured text"
      ],
      "metadata": {
        "id": "k4v2053MwfD4"
      }
    },
    {
      "cell_type": "markdown",
      "source": [
        "# Heading Level 1\n",
        "## Heading Level 2\n",
        "### Heading Level 3\n",
        "- item 1\n",
        "- item 2\n",
        "- item 3\n",
        "\n",
        "this is a link: [link name](https://www.google.com)\n",
        "\n",
        "this is a code block (we'll use in README files):\n",
        "\n",
        "``\n",
        "print(\"HELLO\")\n",
        "``\n",
        "\n"
      ],
      "metadata": {
        "id": "6b4DhxhFxPZX"
      }
    }
  ]
}